{
 "cells": [
  {
   "cell_type": "markdown",
   "metadata": {
    "deletable": true,
    "editable": true
   },
   "source": [
    "# Numerics for constraints on $C_7$ and $C_7'$"
   ]
  },
  {
   "cell_type": "markdown",
   "metadata": {
    "deletable": true,
    "editable": true
   },
   "source": [
    "This notebook runs the numerics for constraints on the Wilson coeffiencts $C_7$ and $C_7'$.\n",
    "\n",
    "It is based on a [notebook](https://github.com/DavidMStraub/paper-bvgamma-ps) provided as compagnion script to the paper [arXiv:1608.02556](https://arxiv.org/abs/1608.02556) by Ayan Paul and David M. Straub.\n",
    "\n",
    "It requires [flavio](https://flav-io.github.io/) v0.21.3 or later."
   ]
  },
  {
   "cell_type": "markdown",
   "metadata": {
    "deletable": true,
    "editable": true
   },
   "source": [
    "## Preliminaries"
   ]
  },
  {
   "cell_type": "markdown",
   "metadata": {
    "deletable": true,
    "editable": true
   },
   "source": [
    "Loading packages"
   ]
  },
  {
   "cell_type": "code",
   "execution_count": 1,
   "metadata": {
    "collapsed": false,
    "deletable": true,
    "editable": true
   },
   "outputs": [],
   "source": [
    "import pickle\n",
    "from functools import partial\n",
    "from collections import OrderedDict\n",
    "import flavio\n",
    "import flavio.plots\n",
    "import flavio.statistics.fits"
   ]
  },
  {
   "cell_type": "markdown",
   "metadata": {
    "deletable": true,
    "editable": true
   },
   "source": [
    "Load the LCSR-only $B\\to V$ form factors from [arXiv:1503.05534](https://arxiv.org/abs/1503.05534) (instead of the combined LCSR-LQCD fit used by default; see appendix A)"
   ]
  },
  {
   "cell_type": "code",
   "execution_count": 2,
   "metadata": {
    "collapsed": false,
    "deletable": true,
    "editable": true
   },
   "outputs": [],
   "source": [
    "flavio.physics.bdecays.formfactors.b_v.bsz_parameters.bsz_load_v2_lcsr(flavio.default_parameters)"
   ]
  },
  {
   "cell_type": "markdown",
   "metadata": {
    "deletable": true,
    "editable": true
   },
   "source": [
    "Relevant observables"
   ]
  },
  {
   "cell_type": "code",
   "execution_count": 3,
   "metadata": {
    "collapsed": true,
    "deletable": true,
    "editable": true
   },
   "outputs": [],
   "source": [
    "observables = [\n",
    "  'BR(B+->K*gamma)',\n",
    "  'BR(B->Xsgamma)',\n",
    "  'BR(B0->K*gamma)',\n",
    "  'BR(Bs->phigamma)',\n",
    "  'ADeltaGamma(Bs->phigamma)',\n",
    "  'S_K*gamma',\n",
    "  ('<ATIm>(B0->K*ee)', 0.002, 1.12),\n",
    "  ('<P1>(B0->K*ee)', 0.002, 1.12),\n",
    "]"
   ]
  },
  {
   "cell_type": "markdown",
   "metadata": {
    "deletable": true,
    "editable": true
   },
   "source": [
    "## Setting up the fits"
   ]
  },
  {
   "cell_type": "markdown",
   "metadata": {
    "deletable": true,
    "editable": true
   },
   "source": [
    "Defining the `FastFit` instances for a given Wilson coefficient scenario and observable set. See [the documentation](https://flav-io.github.io/docs/fits.html) for details."
   ]
  },
  {
   "cell_type": "code",
   "execution_count": 4,
   "metadata": {
    "collapsed": true,
    "deletable": true,
    "editable": true
   },
   "outputs": [],
   "source": [
    "def wc_fct(C7Re, C7Im, C7pRe, C7pIm):\n",
    "    return { 'C7eff_bs': C7Re + 1j * C7Im, 'C7effp_bs': C7pRe + 1j * C7pIm }"
   ]
  },
  {
   "cell_type": "code",
   "execution_count": 5,
   "metadata": {
    "collapsed": false,
    "deletable": true,
    "editable": true
   },
   "outputs": [],
   "source": [
    "def fastfit_obs(name, obslist):\n",
    "    return flavio.statistics.fits.FastFit(\n",
    "                name = name,\n",
    "                nuisance_parameters = [p for p in flavio.default_parameters.all_parameters if p not in ['alpha_s', 'alpha_e', 'm_Z']],\n",
    "                observables = obslist,\n",
    "                fit_wc_function = wc_fct,\n",
    "                input_scale = 4.8,\n",
    "            )"
   ]
  },
  {
   "cell_type": "code",
   "execution_count": 6,
   "metadata": {
    "collapsed": false,
    "deletable": true,
    "editable": true
   },
   "outputs": [],
   "source": [
    "fits = OrderedDict()\n",
    "fits['global'] = observables\n",
    "fits['BR'] = ['BR(B+->K*gamma)', 'BR(B->Xsgamma)', 'BR(B0->K*gamma)', 'BR(Bs->phigamma)',]\n",
    "fits['A'] = ['ADeltaGamma(Bs->phigamma)']\n",
    "fits['P1'] = [('<P1>(B0->K*ee)', 0.002, 1.12)]\n",
    "fits['S'] = ['S_K*gamma']\n",
    "fits['ATIm'] = [('<ATIm>(B0->K*ee)', 0.002, 1.12)]\n",
    "fits['no_BR'] = [\n",
    "  'ADeltaGamma(Bs->phigamma)',\n",
    "  'S_K*gamma',\n",
    "  ('<ATIm>(B0->K*ee)', 0.002, 1.12),\n",
    "  ('<P1>(B0->K*ee)', 0.002, 1.12),\n",
    "]\n",
    "fits['BR(B+->K*gamma)'] = ['BR(B+->K*gamma)']\n",
    "fits['BR(B0->K*gamma)'] = ['BR(B0->K*gamma)']\n",
    "fits['BR(B->Xsgamma)'] = ['BR(B->Xsgamma)']\n",
    "fits['BR(Bs->phigamma)'] = ['BR(Bs->phigamma)']"
   ]
  },
  {
   "cell_type": "markdown",
   "metadata": {
    "deletable": true,
    "editable": true
   },
   "source": [
    "Generating the pseudo measurements for all the fits."
   ]
  },
  {
   "cell_type": "code",
   "execution_count": 7,
   "metadata": {
    "collapsed": false,
    "deletable": true,
    "editable": true
   },
   "outputs": [
    {
     "name": "stdout",
     "output_type": "stream",
     "text": [
      "CPU times: user 4.57 s, sys: 500 ms, total: 5.07 s\n",
      "Wall time: 3min 44s\n"
     ]
    }
   ],
   "source": [
    "%%time\n",
    "obs_fastfits={}\n",
    "for k, v in fits.items():\n",
    "    obs_fastfits[k] = fastfit_obs('C7-C7p fit '+ k, v)\n",
    "    obs_fastfits[k].make_measurement(N=200, threads=4)"
   ]
  },
  {
   "cell_type": "markdown",
   "metadata": {
    "deletable": true,
    "editable": true
   },
   "source": [
    "## Running the fits"
   ]
  },
  {
   "cell_type": "code",
   "execution_count": 8,
   "metadata": {
    "collapsed": false
   },
   "outputs": [],
   "source": [
    "def ll(x, f):\n",
    "    return obs_fastfits[f].log_likelihood([x[0], 0, x[1], 0])\n",
    "    \n",
    "ll_dict = {key:partial(ll, f=key) for key in fits.keys()}\n",
    "\n",
    "def get_contour_data(f):\n",
    "    x_min=-0.25\n",
    "    x_max=+1.05\n",
    "    y_min=-0.65\n",
    "    y_max=+0.65\n",
    "    if f == 'global':\n",
    "        n_sigma = (1,2)\n",
    "        steps = 50\n",
    "    else:\n",
    "        n_sigma = 1\n",
    "        steps = 50\n",
    "    return flavio.plots.likelihood_contour_data(ll_dict[f],\n",
    "                       x_min, x_max, y_min, y_max, n_sigma=n_sigma,\n",
    "                       steps=steps, threads=4)"
   ]
  },
  {
   "cell_type": "code",
   "execution_count": 9,
   "metadata": {
    "collapsed": false
   },
   "outputs": [
    {
     "name": "stdout",
     "output_type": "stream",
     "text": [
      "CPU times: user 1.09 s, sys: 422 ms, total: 1.51 s\n",
      "Wall time: 33min 17s\n"
     ]
    }
   ],
   "source": [
    "%%time\n",
    "data = OrderedDict()\n",
    "for i, f in enumerate(fits):\n",
    "    if f == 'ATIm':\n",
    "        continue # no need to plot ATIm\n",
    "    data[f] = get_contour_data(f)\n",
    "with open('./data.p', 'wb') as f:\n",
    "    pickle.dump((data,fits), f)"
   ]
  },
  {
   "cell_type": "code",
   "execution_count": null,
   "metadata": {
    "collapsed": true
   },
   "outputs": [],
   "source": []
  }
 ],
 "metadata": {
  "kernelspec": {
   "display_name": "Python 3",
   "language": "python",
   "name": "python3"
  },
  "language_info": {
   "codemirror_mode": {
    "name": "ipython",
    "version": 3
   },
   "file_extension": ".py",
   "mimetype": "text/x-python",
   "name": "python",
   "nbconvert_exporter": "python",
   "pygments_lexer": "ipython3",
   "version": "3.4.3"
  }
 },
 "nbformat": 4,
 "nbformat_minor": 0
}
